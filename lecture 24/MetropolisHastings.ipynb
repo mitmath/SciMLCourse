{
 "cells": [
  {
   "cell_type": "code",
   "execution_count": 2,
   "metadata": {},
   "outputs": [],
   "source": [
    "using Statistics\n",
    "#plotly()\n",
    "# using Plots"
   ]
  },
  {
   "cell_type": "code",
   "execution_count": 13,
   "metadata": {},
   "outputs": [],
   "source": [
    "using DistributedArrays"
   ]
  },
  {
   "cell_type": "code",
   "execution_count": 24,
   "metadata": {},
   "outputs": [
    {
     "ename": "LoadError",
     "evalue": "UndefVarError: nprocs not defined",
     "output_type": "error",
     "traceback": [
      "UndefVarError: nprocs not defined",
      "",
      "Stacktrace:",
      " [1] top-level scope",
      "   @ In[24]:7",
      " [2] eval",
      "   @ ./boot.jl:373 [inlined]",
      " [3] include_string(mapexpr::typeof(REPL.softscope), mod::Module, code::String, filename::String)",
      "   @ Base ./loading.jl:1196"
     ]
    }
   ],
   "source": [
    "# addprocs(\n",
    "#     [(\"alanedelman@anubis.juliacomputing.io\", 60)],\n",
    "#     exename = \"/home/andreasnoack/julia06/bin/julia\",\n",
    "#     exeflags = \"--compilecache=no\",\n",
    "#     dir = \"/home/alanedelman\"\n",
    "# )\n",
    "nworkers()"
   ]
  },
  {
   "cell_type": "code",
   "execution_count": 21,
   "metadata": {},
   "outputs": [
    {
     "ename": "LoadError",
     "evalue": "UndefVarError: numprocs not defined",
     "output_type": "error",
     "traceback": [
      "UndefVarError: numprocs not defined",
      "",
      "Stacktrace:",
      " [1] top-level scope",
      "   @ In[21]:1",
      " [2] eval",
      "   @ ./boot.jl:373 [inlined]",
      " [3] include_string(mapexpr::typeof(REPL.softscope), mod::Module, code::String, filename::String)",
      "   @ Base ./loading.jl:1196"
     ]
    }
   ],
   "source": []
  },
  {
   "cell_type": "code",
   "execution_count": 3,
   "metadata": {
    "collapsed": true
   },
   "outputs": [],
   "source": [
    "# Generates random data distributed proportionally to f(x) on [a,b]"
   ]
  },
  {
   "cell_type": "code",
   "execution_count": 25,
   "metadata": {},
   "outputs": [
    {
     "data": {
      "text/plain": [
       "walk (generic function with 5 methods)"
      ]
     },
     "execution_count": 25,
     "metadata": {},
     "output_type": "execute_result"
    }
   ],
   "source": [
    "#@everywhere begin\n",
    "\n",
    "#using DistributedArrays\n",
    "\n",
    "function jump(f, x, a = -1.0, b = 1.0)\n",
    "    y = x + 0.1 * (rand()-.5)   \n",
    "    rand() < f(y)/f(x) && a<y<b ? y  : x\n",
    "end\n",
    "\n",
    "\n",
    "function walk(f, n=10_000_000, x = 0.0, a = -1.0, b = 1.0)\n",
    " data = Float64[]\n",
    "  h = Histogram(a:.01:b ,:left)\n",
    "  for i=1:n-1\n",
    "    x = jump(f,x)\n",
    "    push!(h,x)\n",
    "    push!(data,x)\n",
    "  end\n",
    "  return h,data \n",
    "end\n",
    "    \n",
    "#end"
   ]
  },
  {
   "cell_type": "code",
   "execution_count": 27,
   "metadata": {},
   "outputs": [
    {
     "data": {
      "text/plain": [
       "f (generic function with 1 method)"
      ]
     },
     "execution_count": 27,
     "metadata": {},
     "output_type": "execute_result"
    }
   ],
   "source": [
    " f(x)=x.^2"
   ]
  },
  {
   "cell_type": "code",
   "execution_count": 16,
   "metadata": {},
   "outputs": [
    {
     "data": {
      "text/plain": [
       "41-element DArray{Float64, 1, Vector{Float64}}:\n",
       "  0.48059753677424\n",
       " -1.011235451361166\n",
       "  0.47858939128330025\n",
       " -0.12142050567236685\n",
       "  0.18919899028500978\n",
       "  1.4920766107065266\n",
       " -0.44049596202597235\n",
       "  0.38295503157962973\n",
       " -1.247817836215618\n",
       "  0.9327421959145253\n",
       "  0.2516358499023996\n",
       " -0.46198715498096127\n",
       " -1.1613846325742114\n",
       "  ⋮\n",
       " -0.6633299492226804\n",
       "  0.28634482716582244\n",
       " -1.654830874902433\n",
       " -0.11840486290184836\n",
       " -1.4842707676369016\n",
       " -0.3559367618043355\n",
       "  0.9610698385277565\n",
       "  0.4641761714073894\n",
       "  0.4074521957546799\n",
       "  0.2857089958151928\n",
       " -0.16175895100332166\n",
       " -1.0149383650219297"
      ]
     },
     "execution_count": 16,
     "metadata": {},
     "output_type": "execute_result"
    }
   ],
   "source": [
    "a = distribute( randn(41))"
   ]
  },
  {
   "cell_type": "code",
   "execution_count": 5,
   "metadata": {},
   "outputs": [
    {
     "data": {
      "application/vnd.webio.node+json": {
       "children": [],
       "instanceArgs": {
        "namespace": "html",
        "tag": "div"
       },
       "nodeType": "DOM",
       "props": {},
       "type": "node"
      },
      "text/html": [
       "<div style=\"padding: 1em; background-color: #f8d6da; border: 1px solid #f5c6cb; font-weight: bold;\">\n",
       "<p>The WebIO Jupyter extension was not detected. See the\n",
       "<a href=\"https://juliagizmos.github.io/WebIO.jl/latest/providers/ijulia/\" target=\"_blank\">\n",
       "    WebIO Jupyter integration documentation\n",
       "</a>\n",
       "for more information.\n",
       "</div>\n"
      ],
      "text/plain": [
       "WebIO._IJuliaInit()"
      ]
     },
     "metadata": {
      "application/vnd.webio.node+json": {
       "kernelId": "626dea7e-ac7f-4dc7-b896-430e1986857b"
      }
     },
     "output_type": "display_data"
    }
   ],
   "source": [
    "using Interact"
   ]
  },
  {
   "cell_type": "code",
   "execution_count": 8,
   "metadata": {},
   "outputs": [],
   "source": [
    "using Colors"
   ]
  },
  {
   "cell_type": "code",
   "execution_count": 9,
   "metadata": {},
   "outputs": [
    {
     "data": {
      "image/svg+xml": [
       "<?xml version=\"1.0\" encoding=\"UTF-8\"?>\n",
       "<!DOCTYPE svg PUBLIC \"-//W3C//DTD SVG 1.1//EN\"\n",
       " \"http://www.w3.org/Graphics/SVG/1.1/DTD/svg11.dtd\">\n",
       "<svg xmlns=\"http://www.w3.org/2000/svg\" version=\"1.1\"\n",
       "     width=\"180mm\" height=\"25mm\"\n",
       "     viewBox=\"0 0 100 1\" preserveAspectRatio=\"none\"\n",
       "     shape-rendering=\"crispEdges\" stroke=\"none\">\n",
       "<rect width=\"1\" height=\".96\" x=\"0\" y=\"0\" fill=\"#000000\" />\n",
       "<rect width=\"1\" height=\".96\" x=\"1\" y=\"0\" fill=\"#FFFF74\" />\n",
       "<rect width=\"1\" height=\".96\" x=\"2\" y=\"0\" fill=\"#FF9BFF\" />\n",
       "<rect width=\"1\" height=\".96\" x=\"3\" y=\"0\" fill=\"#00D3FF\" />\n",
       "<rect width=\"1\" height=\".96\" x=\"4\" y=\"0\" fill=\"#E2630D\" />\n",
       "<rect width=\"1\" height=\".96\" x=\"5\" y=\"0\" fill=\"#007E00\" />\n",
       "<rect width=\"1\" height=\".96\" x=\"6\" y=\"0\" fill=\"#0050E6\" />\n",
       "<rect width=\"1\" height=\".96\" x=\"7\" y=\"0\" fill=\"#AC0047\" />\n",
       "<rect width=\"1\" height=\".96\" x=\"8\" y=\"0\" fill=\"#00FFC8\" />\n",
       "<rect width=\"1\" height=\".96\" x=\"9\" y=\"0\" fill=\"#006468\" />\n",
       "<rect width=\"1\" height=\".96\" x=\"10\" y=\"0\" fill=\"#FFD5C4\" />\n",
       "<rect width=\"1\" height=\".96\" x=\"11\" y=\"0\" fill=\"#6C5200\" />\n",
       "<rect width=\"1\" height=\".96\" x=\"12\" y=\"0\" fill=\"#7A7581\" />\n",
       "<rect width=\"1\" height=\".96\" x=\"13\" y=\"0\" fill=\"#44005C\" />\n",
       "<rect width=\"1\" height=\".96\" x=\"14\" y=\"0\" fill=\"#9E9E77\" />\n",
       "<rect width=\"1\" height=\".96\" x=\"15\" y=\"0\" fill=\"#FF5C78\" />\n",
       "<rect width=\"1\" height=\".96\" x=\"16\" y=\"0\" fill=\"#8197F1\" />\n",
       "<rect width=\"1\" height=\".96\" x=\"17\" y=\"0\" fill=\"#003200\" />\n",
       "<rect width=\"1\" height=\".96\" x=\"18\" y=\"0\" fill=\"#C721DD\" />\n",
       "<rect width=\"1\" height=\".96\" x=\"19\" y=\"0\" fill=\"#FFAD07\" />\n",
       "<rect width=\"1\" height=\".96\" x=\"20\" y=\"0\" fill=\"#611C00\" />\n",
       "<rect width=\"1\" height=\".96\" x=\"21\" y=\"0\" fill=\"#F3FFFA\" />\n",
       "<rect width=\"1\" height=\".96\" x=\"22\" y=\"0\" fill=\"#009E88\" />\n",
       "<rect width=\"1\" height=\".96\" x=\"23\" y=\"0\" fill=\"#5EC700\" />\n",
       "<rect width=\"1\" height=\".96\" x=\"24\" y=\"0\" fill=\"#002D54\" />\n",
       "<rect width=\"1\" height=\".96\" x=\"25\" y=\"0\" fill=\"#553C4A\" />\n",
       "<rect width=\"1\" height=\".96\" x=\"26\" y=\"0\" fill=\"#444439\" />\n",
       "<rect width=\"1\" height=\".96\" x=\"27\" y=\"0\" fill=\"#008FB6\" />\n",
       "<rect width=\"1\" height=\".96\" x=\"28\" y=\"0\" fill=\"#CFD4FD\" />\n",
       "<rect width=\"1\" height=\".96\" x=\"29\" y=\"0\" fill=\"#C40000\" />\n",
       "<rect width=\"1\" height=\".96\" x=\"30\" y=\"0\" fill=\"#A4675C\" />\n",
       "<rect width=\"1\" height=\".96\" x=\"31\" y=\"0\" fill=\"#BB8FA8\" />\n",
       "<rect width=\"1\" height=\".96\" x=\"32\" y=\"0\" fill=\"#290001\" />\n",
       "<rect width=\"1\" height=\".96\" x=\"33\" y=\"0\" fill=\"#A78600\" />\n",
       "<rect width=\"1\" height=\".96\" x=\"34\" y=\"0\" fill=\"#002D30\" />\n",
       "<rect width=\"1\" height=\".96\" x=\"35\" y=\"0\" fill=\"#C7DEAA\" />\n",
       "<rect width=\"1\" height=\".96\" x=\"36\" y=\"0\" fill=\"#8D9FA3\" />\n",
       "<rect width=\"1\" height=\".96\" x=\"37\" y=\"0\" fill=\"#6F5B95\" />\n",
       "<rect width=\"1\" height=\".96\" x=\"38\" y=\"0\" fill=\"#A1FFFF\" />\n",
       "<rect width=\"1\" height=\".96\" x=\"39\" y=\"0\" fill=\"#B39688\" />\n",
       "<rect width=\"1\" height=\".96\" x=\"40\" y=\"0\" fill=\"#4E6D50\" />\n",
       "<rect width=\"1\" height=\".96\" x=\"41\" y=\"0\" fill=\"#FF977B\" />\n",
       "<rect width=\"1\" height=\".96\" x=\"42\" y=\"0\" fill=\"#FFD1EC\" />\n",
       "<rect width=\"1\" height=\".96\" x=\"43\" y=\"0\" fill=\"#9E5100\" />\n",
       "<rect width=\"1\" height=\".96\" x=\"44\" y=\"0\" fill=\"#AE5B8E\" />\n",
       "<rect width=\"1\" height=\".96\" x=\"45\" y=\"0\" fill=\"#799400\" />\n",
       "<rect width=\"1\" height=\".96\" x=\"46\" y=\"0\" fill=\"#362200\" />\n",
       "<rect width=\"1\" height=\".96\" x=\"47\" y=\"0\" fill=\"#0E0026\" />\n",
       "<rect width=\"1\" height=\".96\" x=\"48\" y=\"0\" fill=\"#80765F\" />\n",
       "<rect width=\"1\" height=\".96\" x=\"49\" y=\"0\" fill=\"#485C00\" />\n",
       "<rect width=\"1\" height=\".96\" x=\"50\" y=\"0\" fill=\"#C8C2B5\" />\n",
       "<rect width=\"1\" height=\".96\" x=\"51\" y=\"0\" fill=\"#8800A1\" />\n",
       "<rect width=\"1\" height=\".96\" x=\"52\" y=\"0\" fill=\"#00A853\" />\n",
       "<rect width=\"1\" height=\".96\" x=\"53\" y=\"0\" fill=\"#FFE1AA\" />\n",
       "<rect width=\"1\" height=\".96\" x=\"54\" y=\"0\" fill=\"#674F42\" />\n",
       "<rect width=\"1\" height=\".96\" x=\"55\" y=\"0\" fill=\"#FF342D\" />\n",
       "<rect width=\"1\" height=\".96\" x=\"56\" y=\"0\" fill=\"#6B0041\" />\n",
       "<rect width=\"1\" height=\".96\" x=\"57\" y=\"0\" fill=\"#0806B1\" />\n",
       "<rect width=\"1\" height=\".96\" x=\"58\" y=\"0\" fill=\"#986DFF\" />\n",
       "<rect width=\"1\" height=\".96\" x=\"59\" y=\"0\" fill=\"#FF4EC7\" />\n",
       "<rect width=\"1\" height=\".96\" x=\"60\" y=\"0\" fill=\"#8AB9A2\" />\n",
       "<rect width=\"1\" height=\".96\" x=\"61\" y=\"0\" fill=\"#2EFF71\" />\n",
       "<rect width=\"1\" height=\".96\" x=\"62\" y=\"0\" fill=\"#005577\" />\n",
       "<rect width=\"1\" height=\".96\" x=\"63\" y=\"0\" fill=\"#0078E3\" />\n",
       "<rect width=\"1\" height=\".96\" x=\"64\" y=\"0\" fill=\"#B2ADB9\" />\n",
       "<rect width=\"1\" height=\".96\" x=\"65\" y=\"0\" fill=\"#00C3C6\" />\n",
       "<rect width=\"1\" height=\".96\" x=\"66\" y=\"0\" fill=\"#00AEFF\" />\n",
       "<rect width=\"1\" height=\".96\" x=\"67\" y=\"0\" fill=\"#4E545F\" />\n",
       "<rect width=\"1\" height=\".96\" x=\"68\" y=\"0\" fill=\"#FF9BB0\" />\n",
       "<rect width=\"1\" height=\".96\" x=\"69\" y=\"0\" fill=\"#FED206\" />\n",
       "<rect width=\"1\" height=\".96\" x=\"70\" y=\"0\" fill=\"#687B7A\" />\n",
       "<rect width=\"1\" height=\".96\" x=\"71\" y=\"0\" fill=\"#B1DCFC\" />\n",
       "<rect width=\"1\" height=\".96\" x=\"72\" y=\"0\" fill=\"#FFF6FF\" />\n",
       "<rect width=\"1\" height=\".96\" x=\"73\" y=\"0\" fill=\"#620019\" />\n",
       "<rect width=\"1\" height=\".96\" x=\"74\" y=\"0\" fill=\"#C79253\" />\n",
       "<rect width=\"1\" height=\".96\" x=\"75\" y=\"0\" fill=\"#A891CF\" />\n",
       "<rect width=\"1\" height=\".96\" x=\"76\" y=\"0\" fill=\"#EF007A\" />\n",
       "<rect width=\"1\" height=\".96\" x=\"77\" y=\"0\" fill=\"#B8CE00\" />\n",
       "<rect width=\"1\" height=\".96\" x=\"78\" y=\"0\" fill=\"#001700\" />\n",
       "<rect width=\"1\" height=\".96\" x=\"79\" y=\"0\" fill=\"#204B39\" />\n",
       "<rect width=\"1\" height=\".96\" x=\"80\" y=\"0\" fill=\"#875866\" />\n",
       "<rect width=\"1\" height=\".96\" x=\"81\" y=\"0\" fill=\"#B5FF4E\" />\n",
       "<rect width=\"1\" height=\".96\" x=\"82\" y=\"0\" fill=\"#B40080\" />\n",
       "<rect width=\"1\" height=\".96\" x=\"83\" y=\"0\" fill=\"#853F34\" />\n",
       "<rect width=\"1\" height=\".96\" x=\"84\" y=\"0\" fill=\"#69936B\" />\n",
       "<rect width=\"1\" height=\".96\" x=\"85\" y=\"0\" fill=\"#FFBC80\" />\n",
       "<rect width=\"1\" height=\".96\" x=\"86\" y=\"0\" fill=\"#4C3779\" />\n",
       "<rect width=\"1\" height=\".96\" x=\"87\" y=\"0\" fill=\"#323606\" />\n",
       "<rect width=\"1\" height=\".96\" x=\"88\" y=\"0\" fill=\"#008E94\" />\n",
       "<rect width=\"1\" height=\".96\" x=\"89\" y=\"0\" fill=\"#CAAC51\" />\n",
       "<rect width=\"1\" height=\".96\" x=\"90\" y=\"0\" fill=\"#787B3B\" />\n",
       "<rect width=\"1\" height=\".96\" x=\"91\" y=\"0\" fill=\"#B6F9D9\" />\n",
       "<rect width=\"1\" height=\".96\" x=\"92\" y=\"0\" fill=\"#DA003F\" />\n",
       "<rect width=\"1\" height=\".96\" x=\"93\" y=\"0\" fill=\"#2E2124\" />\n",
       "<rect width=\"1\" height=\".96\" x=\"94\" y=\"0\" fill=\"#005815\" />\n",
       "<rect width=\"1\" height=\".96\" x=\"95\" y=\"0\" fill=\"#FF8E1D\" />\n",
       "<rect width=\"1\" height=\".96\" x=\"96\" y=\"0\" fill=\"#6674B1\" />\n",
       "<rect width=\"1\" height=\".96\" x=\"97\" y=\"0\" fill=\"#00CDAD\" />\n",
       "<rect width=\"1\" height=\".96\" x=\"98\" y=\"0\" fill=\"#007F63\" />\n",
       "<rect width=\"1\" height=\".96\" x=\"99\" y=\"0\" fill=\"#996F3D\" />\n",
       "</svg>"
      ],
      "text/plain": [
       "100-element Array{RGB{N0f8},1} with eltype RGB{FixedPointNumbers.N0f8}:\n",
       " RGB{N0f8}(0.0,0.0,0.0)\n",
       " RGB{N0f8}(1.0,1.0,0.455)\n",
       " RGB{N0f8}(1.0,0.608,1.0)\n",
       " RGB{N0f8}(0.0,0.827,1.0)\n",
       " RGB{N0f8}(0.886,0.388,0.051)\n",
       " RGB{N0f8}(0.0,0.494,0.0)\n",
       " RGB{N0f8}(0.0,0.314,0.902)\n",
       " RGB{N0f8}(0.675,0.0,0.278)\n",
       " RGB{N0f8}(0.0,1.0,0.784)\n",
       " RGB{N0f8}(0.0,0.392,0.408)\n",
       " RGB{N0f8}(1.0,0.835,0.769)\n",
       " RGB{N0f8}(0.424,0.322,0.0)\n",
       " RGB{N0f8}(0.478,0.459,0.506)\n",
       " ⋮\n",
       " RGB{N0f8}(0.0,0.557,0.58)\n",
       " RGB{N0f8}(0.792,0.675,0.318)\n",
       " RGB{N0f8}(0.471,0.482,0.231)\n",
       " RGB{N0f8}(0.714,0.976,0.851)\n",
       " RGB{N0f8}(0.855,0.0,0.247)\n",
       " RGB{N0f8}(0.18,0.129,0.141)\n",
       " RGB{N0f8}(0.0,0.345,0.082)\n",
       " RGB{N0f8}(1.0,0.557,0.114)\n",
       " RGB{N0f8}(0.4,0.455,0.694)\n",
       " RGB{N0f8}(0.0,0.804,0.678)\n",
       " RGB{N0f8}(0.0,0.498,0.388)\n",
       " RGB{N0f8}(0.6,0.435,0.239)"
      ]
     },
     "execution_count": 9,
     "metadata": {},
     "output_type": "execute_result"
    }
   ],
   "source": [
    "d = distinguishable_colors(100)"
   ]
  },
  {
   "cell_type": "code",
   "execution_count": 17,
   "metadata": {},
   "outputs": [
    {
     "ename": "LoadError",
     "evalue": "type DArray has no field indexes",
     "output_type": "error",
     "traceback": [
      "type DArray has no field indexes",
      "",
      "Stacktrace:",
      " [1] getproperty(x::DArray{Float64, 1, Vector{Float64}}, f::Symbol)",
      "   @ Base ./Base.jl:42",
      " [2] (::var\"#3#4\")(n::Int64)",
      "   @ Main ./none:0",
      " [3] iterate",
      "   @ ./generator.jl:47 [inlined]",
      " [4] collect(itr::Base.Generator{UnitRange{Int64}, var\"#3#4\"})",
      "   @ Base ./array.jl:724",
      " [5] top-level scope",
      "   @ In[17]:9",
      " [6] eval",
      "   @ ./boot.jl:373 [inlined]",
      " [7] include_string(mapexpr::typeof(REPL.softscope), mod::Module, code::String, filename::String)",
      "   @ Base ./loading.jl:1196"
     ]
    }
   ],
   "source": [
    "#@manipulate for n=1:100\n",
    " # a = distribute( randn(n))\n",
    " # g(x) =length(x[1])\n",
    " # d[g.(a.indexes)]\n",
    "#end\n",
    "\n",
    "n=20\n",
    "\n",
    "d[hcat( [g.(distribute( randn(n)).indexes) for n=10:100]...)]\n",
    "\n"
   ]
  },
  {
   "cell_type": "code",
   "execution_count": 18,
   "metadata": {},
   "outputs": [
    {
     "data": {
      "text/plain": [
       "10-element DArray{Float64, 1, Vector{Float64}}:\n",
       "  2.3028811023627926\n",
       " -1.0951306324773535\n",
       " -1.3685849671471855\n",
       "  0.2251475275723136\n",
       " -1.3943106868099244\n",
       "  0.7721199949368848\n",
       "  0.1543932921164958\n",
       "  1.0846141550075206\n",
       "  0.519981870058519\n",
       " -0.785213836851063"
      ]
     },
     "execution_count": 18,
     "metadata": {},
     "output_type": "execute_result"
    }
   ],
   "source": [
    "@DArray [randn() for i=1:10]"
   ]
  },
  {
   "cell_type": "code",
   "execution_count": 26,
   "metadata": {},
   "outputs": [
    {
     "ename": "LoadError",
     "evalue": "UndefVarError: f not defined",
     "output_type": "error",
     "traceback": [
      "UndefVarError: f not defined",
      "",
      "Stacktrace:",
      " [1] (::var\"#17#18\")(i::Int64)",
      "   @ Main ./none:0",
      " [2] iterate",
      "   @ ./generator.jl:47 [inlined]",
      " [3] collect(itr::Base.Generator{UnitRange{Int64}, var\"#17#18\"})",
      "   @ Base ./array.jl:724",
      " [4] top-level scope",
      "   @ In[26]:1",
      " [5] eval",
      "   @ ./boot.jl:373 [inlined]",
      " [6] include_string(mapexpr::typeof(REPL.softscope), mod::Module, code::String, filename::String)",
      "   @ Base ./loading.jl:1196"
     ]
    }
   ],
   "source": [
    " [walk(f,10) for i=1:10]"
   ]
  },
  {
   "cell_type": "code",
   "execution_count": 53,
   "metadata": {},
   "outputs": [
    {
     "data": {
      "text/plain": [
       "100-element Array{Tuple{StatsBase.Histogram{Int64,1,Tuple{StepRangeLen{Float64,Base.TwicePrecision{Float64},Base.TwicePrecision{Float64}}}},Array{Float64,1}},1}:\n",
       " (StatsBase.Histogram{Int64,1,Tuple{StepRangeLen{Float64,Base.TwicePrecision{Float64},Base.TwicePrecision{Float64}}}}\n",
       "edges:\n",
       "  -1.0:0.01:1.0\n",
       "weights: [0, 0, 0, 0, 0, 0, 0, 0, 0, 0  …  0, 0, 0, 0, 0, 0, 0, 0, 0, 0]\n",
       "closed: left\n",
       "isdensity: false, [0.0383035, 0.0383035, 0.0383035, 0.0396647, 0.0396647, 0.0396647, 0.0469012, 0.0469012, 0.0675381])         \n",
       " (StatsBase.Histogram{Int64,1,Tuple{StepRangeLen{Float64,Base.TwicePrecision{Float64},Base.TwicePrecision{Float64}}}}\n",
       "edges:\n",
       "  -1.0:0.01:1.0\n",
       "weights: [0, 0, 0, 0, 0, 0, 0, 0, 0, 0  …  0, 0, 0, 0, 0, 0, 0, 0, 0, 0]\n",
       "closed: left\n",
       "isdensity: false, [-0.0329991, -0.0329991, -0.0352913, -0.0352913, -0.0352913, -0.0157906, 0.0334537, 0.0334537, 0.0625616])   \n",
       " (StatsBase.Histogram{Int64,1,Tuple{StepRangeLen{Float64,Base.TwicePrecision{Float64},Base.TwicePrecision{Float64}}}}\n",
       "edges:\n",
       "  -1.0:0.01:1.0\n",
       "weights: [0, 0, 0, 0, 0, 0, 0, 0, 0, 0  …  0, 0, 0, 0, 0, 0, 0, 0, 0, 0]\n",
       "closed: left\n",
       "isdensity: false, [0.0449657, 0.0290741, 0.0290741, 0.0384832, 0.0410147, 0.0410147, 0.0410147, 0.0617281, 0.0617281])         \n",
       " (StatsBase.Histogram{Int64,1,Tuple{StepRangeLen{Float64,Base.TwicePrecision{Float64},Base.TwicePrecision{Float64}}}}\n",
       "edges:\n",
       "  -1.0:0.01:1.0\n",
       "weights: [0, 0, 0, 0, 0, 0, 0, 0, 0, 0  …  0, 0, 0, 0, 0, 0, 0, 0, 0, 0]\n",
       "closed: left\n",
       "isdensity: false, [0.0382606, 0.0418386, 0.0418386, 0.0418386, 0.0668649, 0.112946, 0.112946, 0.121101, 0.121101])             \n",
       " (StatsBase.Histogram{Int64,1,Tuple{StepRangeLen{Float64,Base.TwicePrecision{Float64},Base.TwicePrecision{Float64}}}}\n",
       "edges:\n",
       "  -1.0:0.01:1.0\n",
       "weights: [0, 0, 0, 0, 0, 0, 0, 0, 0, 0  …  0, 0, 0, 0, 0, 0, 0, 0, 0, 0]\n",
       "closed: left\n",
       "isdensity: false, [0.0298518, 0.0298518, 0.038132, 0.038132, 0.038132, 0.0579179, 0.0579179, 0.0579179, 0.0993894])            \n",
       " (StatsBase.Histogram{Int64,1,Tuple{StepRangeLen{Float64,Base.TwicePrecision{Float64},Base.TwicePrecision{Float64}}}}\n",
       "edges:\n",
       "  -1.0:0.01:1.0\n",
       "weights: [0, 0, 0, 0, 0, 0, 0, 0, 0, 0  …  0, 0, 0, 0, 0, 0, 0, 0, 0, 0]\n",
       "closed: left\n",
       "isdensity: false, [-0.0319328, -0.0477784, -0.0477784, -0.0471166, -0.0671407, -0.10846, -0.132483, -0.132483, -0.148184])     \n",
       " (StatsBase.Histogram{Int64,1,Tuple{StepRangeLen{Float64,Base.TwicePrecision{Float64},Base.TwicePrecision{Float64}}}}\n",
       "edges:\n",
       "  -1.0:0.01:1.0\n",
       "weights: [0, 0, 0, 0, 0, 0, 0, 0, 0, 0  …  0, 0, 0, 0, 0, 0, 0, 0, 0, 0]\n",
       "closed: left\n",
       "isdensity: false, [-0.00995727, -0.00715888, 0.0192169, 0.0192169, 0.0146863, 0.0286277, 0.0665771, 0.0665771, 0.0665771])     \n",
       " (StatsBase.Histogram{Int64,1,Tuple{StepRangeLen{Float64,Base.TwicePrecision{Float64},Base.TwicePrecision{Float64}}}}\n",
       "edges:\n",
       "  -1.0:0.01:1.0\n",
       "weights: [0, 0, 0, 0, 0, 0, 0, 0, 0, 0  …  0, 0, 0, 0, 0, 0, 0, 0, 0, 0]\n",
       "closed: left\n",
       "isdensity: false, [0.0281862, 0.0281862, 0.0281862, 0.0688739, 0.0688739, 0.0655633, 0.0655633, 0.0705547, 0.0705547])         \n",
       " (StatsBase.Histogram{Int64,1,Tuple{StepRangeLen{Float64,Base.TwicePrecision{Float64},Base.TwicePrecision{Float64}}}}\n",
       "edges:\n",
       "  -1.0:0.01:1.0\n",
       "weights: [0, 0, 0, 0, 0, 0, 0, 0, 0, 0  …  0, 0, 0, 0, 0, 0, 0, 0, 0, 0]\n",
       "closed: left\n",
       "isdensity: false, [0.0430778, 0.0674061, 0.0965913, 0.118834, 0.127132, 0.0878252, 0.0735051, 0.116349, 0.0951787])            \n",
       " (StatsBase.Histogram{Int64,1,Tuple{StepRangeLen{Float64,Base.TwicePrecision{Float64},Base.TwicePrecision{Float64}}}}\n",
       "edges:\n",
       "  -1.0:0.01:1.0\n",
       "weights: [0, 0, 0, 0, 0, 0, 0, 0, 0, 0  …  0, 0, 0, 0, 0, 0, 0, 0, 0, 0]\n",
       "closed: left\n",
       "isdensity: false, [0.0243928, 0.0535898, 0.0535898, 0.102459, 0.0675283, 0.101468, 0.124042, 0.150562, 0.1668])                \n",
       " (StatsBase.Histogram{Int64,1,Tuple{StepRangeLen{Float64,Base.TwicePrecision{Float64},Base.TwicePrecision{Float64}}}}\n",
       "edges:\n",
       "  -1.0:0.01:1.0\n",
       "weights: [0, 0, 0, 0, 0, 0, 0, 0, 0, 0  …  0, 0, 0, 0, 0, 0, 0, 0, 0, 0]\n",
       "closed: left\n",
       "isdensity: false, [-0.0310169, -0.0310169, -0.0310169, -0.0310169, -0.0617372, -0.0617372, -0.0582763, -0.0852007, -0.0852007])\n",
       " (StatsBase.Histogram{Int64,1,Tuple{StepRangeLen{Float64,Base.TwicePrecision{Float64},Base.TwicePrecision{Float64}}}}\n",
       "edges:\n",
       "  -1.0:0.01:1.0\n",
       "weights: [0, 0, 0, 0, 0, 0, 0, 0, 0, 0  …  0, 0, 0, 0, 0, 0, 0, 0, 0, 0]\n",
       "closed: left\n",
       "isdensity: false, [0.0225485, 0.0225485, 0.0460368, 0.0400486, 0.0435635, 0.03424, 0.03424, 0.03424, 0.03424])                 \n",
       " (StatsBase.Histogram{Int64,1,Tuple{StepRangeLen{Float64,Base.TwicePrecision{Float64},Base.TwicePrecision{Float64}}}}\n",
       "edges:\n",
       "  -1.0:0.01:1.0\n",
       "weights: [0, 0, 0, 0, 0, 0, 0, 0, 0, 0  …  0, 0, 0, 0, 0, 0, 0, 0, 0, 0]\n",
       "closed: left\n",
       "isdensity: false, [-0.00544677, 0.00773327, -0.0169437, -0.0172195, 0.0300837, 0.0624635, 0.071376, 0.035833, 0.0545018])      \n",
       " ⋮                                                                                                                                                                                                                                                                                                                                                                \n",
       " (StatsBase.Histogram{Int64,1,Tuple{StepRangeLen{Float64,Base.TwicePrecision{Float64},Base.TwicePrecision{Float64}}}}\n",
       "edges:\n",
       "  -1.0:0.01:1.0\n",
       "weights: [0, 0, 0, 0, 0, 0, 0, 0, 0, 0  …  0, 0, 0, 0, 0, 0, 0, 0, 0, 0]\n",
       "closed: left\n",
       "isdensity: false, [-0.0438463, -0.0438463, -0.0379367, -0.0367725, -0.0367725, -0.0576235, -0.0576235, -0.0422173, -0.0422173])\n",
       " (StatsBase.Histogram{Int64,1,Tuple{StepRangeLen{Float64,Base.TwicePrecision{Float64},Base.TwicePrecision{Float64}}}}\n",
       "edges:\n",
       "  -1.0:0.01:1.0\n",
       "weights: [0, 0, 0, 0, 0, 0, 0, 0, 0, 0  …  0, 0, 0, 0, 0, 0, 0, 0, 0, 0]\n",
       "closed: left\n",
       "isdensity: false, [-0.0179261, 0.0250306, 0.0357982, 0.0357982, 0.0357982, 0.0371319, 0.0813789, 0.0420066, 0.0410589])        \n",
       " (StatsBase.Histogram{Int64,1,Tuple{StepRangeLen{Float64,Base.TwicePrecision{Float64},Base.TwicePrecision{Float64}}}}\n",
       "edges:\n",
       "  -1.0:0.01:1.0\n",
       "weights: [0, 0, 0, 0, 0, 0, 0, 0, 0, 0  …  0, 0, 0, 0, 0, 0, 0, 0, 0, 0]\n",
       "closed: left\n",
       "isdensity: false, [-0.0499276, -0.0773927, -0.110265, -0.110265, -0.15413, -0.203837, -0.203837, -0.194932, -0.194914])        \n",
       " (StatsBase.Histogram{Int64,1,Tuple{StepRangeLen{Float64,Base.TwicePrecision{Float64},Base.TwicePrecision{Float64}}}}\n",
       "edges:\n",
       "  -1.0:0.01:1.0\n",
       "weights: [0, 0, 0, 0, 0, 0, 0, 0, 0, 0  …  0, 0, 0, 0, 0, 0, 0, 0, 0, 0]\n",
       "closed: left\n",
       "isdensity: false, [-0.00239202, 0.00934141, -0.0207247, -0.0387772, -0.0387772, -0.0359842, -0.0713414, -0.088273, -0.0459087])\n",
       " (StatsBase.Histogram{Int64,1,Tuple{StepRangeLen{Float64,Base.TwicePrecision{Float64},Base.TwicePrecision{Float64}}}}\n",
       "edges:\n",
       "  -1.0:0.01:1.0\n",
       "weights: [0, 0, 0, 0, 0, 0, 0, 0, 0, 0  …  0, 0, 0, 0, 0, 0, 0, 0, 0, 0]\n",
       "closed: left\n",
       "isdensity: false, [0.0264368, 0.0537481, 0.0537481, 0.0946958, 0.0989465, 0.0989465, 0.0989465, 0.0989465, 0.0989465])         \n",
       " (StatsBase.Histogram{Int64,1,Tuple{StepRangeLen{Float64,Base.TwicePrecision{Float64},Base.TwicePrecision{Float64}}}}\n",
       "edges:\n",
       "  -1.0:0.01:1.0\n",
       "weights: [0, 0, 0, 0, 0, 0, 0, 0, 0, 0  …  0, 0, 0, 0, 0, 0, 0, 0, 0, 0]\n",
       "closed: left\n",
       "isdensity: false, [-0.0392572, -0.0392572, -0.0628034, -0.0668997, -0.0281532, -0.0543176, -0.0989276, -0.1254, -0.150384])    \n",
       " (StatsBase.Histogram{Int64,1,Tuple{StepRangeLen{Float64,Base.TwicePrecision{Float64},Base.TwicePrecision{Float64}}}}\n",
       "edges:\n",
       "  -1.0:0.01:1.0\n",
       "weights: [0, 0, 0, 0, 0, 0, 0, 0, 0, 0  …  0, 0, 0, 0, 0, 0, 0, 0, 0, 0]\n",
       "closed: left\n",
       "isdensity: false, [0.0309698, 0.015648, 0.0154582, 0.0154582, 0.0154582, -0.0256599, -0.0256599, -0.0284632, -0.0438273])      \n",
       " (StatsBase.Histogram{Int64,1,Tuple{StepRangeLen{Float64,Base.TwicePrecision{Float64},Base.TwicePrecision{Float64}}}}\n",
       "edges:\n",
       "  -1.0:0.01:1.0\n",
       "weights: [0, 0, 0, 0, 0, 0, 0, 0, 0, 0  …  0, 0, 0, 0, 0, 0, 0, 0, 0, 0]\n",
       "closed: left\n",
       "isdensity: false, [-0.0284533, -0.0284664, -0.0701022, -0.0701022, -0.113671, -0.122744, -0.135962, -0.155984, -0.178753])     \n",
       " (StatsBase.Histogram{Int64,1,Tuple{StepRangeLen{Float64,Base.TwicePrecision{Float64},Base.TwicePrecision{Float64}}}}\n",
       "edges:\n",
       "  -1.0:0.01:1.0\n",
       "weights: [0, 0, 0, 0, 0, 0, 0, 0, 0, 0  …  0, 0, 0, 0, 0, 0, 0, 0, 0, 0]\n",
       "closed: left\n",
       "isdensity: false, [0.0217862, 0.0410504, 0.0361031, 0.0361031, 0.0368595, 0.0763637, 0.112322, 0.159185, 0.18254])             \n",
       " (StatsBase.Histogram{Int64,1,Tuple{StepRangeLen{Float64,Base.TwicePrecision{Float64},Base.TwicePrecision{Float64}}}}\n",
       "edges:\n",
       "  -1.0:0.01:1.0\n",
       "weights: [0, 0, 0, 0, 0, 0, 0, 0, 0, 0  …  0, 0, 0, 0, 0, 0, 0, 0, 0, 0]\n",
       "closed: left\n",
       "isdensity: false, [0.00856049, -0.012598, -0.035545, -0.0473739, -0.0359059, -0.050555, -0.097165, -0.0640353, -0.107597])     \n",
       " (StatsBase.Histogram{Int64,1,Tuple{StepRangeLen{Float64,Base.TwicePrecision{Float64},Base.TwicePrecision{Float64}}}}\n",
       "edges:\n",
       "  -1.0:0.01:1.0\n",
       "weights: [0, 0, 0, 0, 0, 0, 0, 0, 0, 0  …  0, 0, 0, 0, 0, 0, 0, 0, 0, 0]\n",
       "closed: left\n",
       "isdensity: false, [0.038556, 0.038556, 0.0323082, 0.0631064, 0.0659242, 0.0981549, 0.135054, 0.141042, 0.14621])               \n",
       " (StatsBase.Histogram{Int64,1,Tuple{StepRangeLen{Float64,Base.TwicePrecision{Float64},Base.TwicePrecision{Float64}}}}\n",
       "edges:\n",
       "  -1.0:0.01:1.0\n",
       "weights: [0, 0, 0, 0, 0, 0, 0, 0, 0, 0  …  0, 0, 0, 0, 0, 0, 0, 0, 0, 0]\n",
       "closed: left\n",
       "isdensity: false, [0.0320783, -0.0149485, -0.0149485, 0.0244759, 0.0244759, 0.0244759, 0.0244759, 0.0603141, 0.0790341])       "
      ]
     },
     "execution_count": 53,
     "metadata": {},
     "output_type": "execute_result"
    }
   ],
   "source": [
    "Array(D)"
   ]
  },
  {
   "cell_type": "code",
   "execution_count": 48,
   "metadata": {},
   "outputs": [
    {
     "data": {
      "text/plain": [
       "10-element Array{Tuple{UnitRange{Int64}},1}:\n",
       " (1:10,)  \n",
       " (11:20,) \n",
       " (21:30,) \n",
       " (31:40,) \n",
       " (41:50,) \n",
       " (51:60,) \n",
       " (61:70,) \n",
       " (71:80,) \n",
       " (81:90,) \n",
       " (91:100,)"
      ]
     },
     "execution_count": 48,
     "metadata": {},
     "output_type": "execute_result"
    }
   ],
   "source": [
    "D.indexes"
   ]
  },
  {
   "cell_type": "code",
   "execution_count": 30,
   "metadata": {},
   "outputs": [
    {
     "ename": "LoadError",
     "evalue": "UndefVarError: Histogram not defined",
     "output_type": "error",
     "traceback": [
      "UndefVarError: Histogram not defined",
      "",
      "Stacktrace:",
      " [1] walk(f::Function, n::Int64, x::Float64, a::Float64, b::Float64)",
      "   @ Main ./In[25]:13",
      " [2] walk(f::Function)",
      "   @ Main ./In[25]:12",
      " [3] top-level scope",
      "   @ In[30]:1",
      " [4] eval",
      "   @ ./boot.jl:373 [inlined]",
      " [5] include_string(mapexpr::typeof(REPL.softscope), mod::Module, code::String, filename::String)",
      "   @ Base ./loading.jl:1196"
     ]
    }
   ],
   "source": [
    "h, data = walk(f)\n",
    "data"
   ]
  },
  {
   "cell_type": "code",
   "execution_count": 29,
   "metadata": {},
   "outputs": [
    {
     "ename": "LoadError",
     "evalue": "LoadError: UndefVarError: @everywhere not defined\nin expression starting at In[29]:1",
     "output_type": "error",
     "traceback": [
      "LoadError: UndefVarError: @everywhere not defined\nin expression starting at In[29]:1",
      "",
      "Stacktrace:",
      " [1] top-level scope",
      "   @ :0",
      " [2] eval",
      "   @ ./boot.jl:373 [inlined]",
      " [3] include_string(mapexpr::typeof(REPL.softscope), mod::Module, code::String, filename::String)",
      "   @ Base ./loading.jl:1196"
     ]
    }
   ],
   "source": [
    "@everywhere begin\n",
    "    f(x) =  abs(x)\n",
    "end\n",
    "\n",
    "mid(r) = r[1:length(r) - 1] + 0.5 * step(r)\n",
    "@time h = walk(f)\n",
    "\n",
    "\n",
    "plot(h)\n",
    "x = mid(h.edges[1])\n",
    "y = h.weights \n",
    "plot!(x,y,label=\"observed\")\n",
    "Y = f.(x)\n",
    "plot!(x, (y'Y)/(Y'Y)*Y, color=\"red\", label=\"predicted\", width=2)"
   ]
  },
  {
   "cell_type": "code",
   "execution_count": 28,
   "metadata": {},
   "outputs": [
    {
     "ename": "LoadError",
     "evalue": "LoadError: UndefVarError: @parallel not defined\nin expression starting at In[28]:1",
     "output_type": "error",
     "traceback": [
      "LoadError: UndefVarError: @parallel not defined\nin expression starting at In[28]:1",
      "",
      "Stacktrace:",
      " [1] top-level scope",
      "   @ :0",
      " [2] eval",
      "   @ ./boot.jl:373 [inlined]",
      " [3] include_string(mapexpr::typeof(REPL.softscope), mod::Module, code::String, filename::String)",
      "   @ Base ./loading.jl:1196"
     ]
    }
   ],
   "source": [
    " h, data = @parallel (x,y)->(merge(x[1],y[1]), vcat(x[2],y[2])) for p = 1:nworkers()\n",
    "  walk(f,100)\n",
    "end\n",
    "\n",
    "#=\n",
    "plot(h,label=false)\n",
    "x = mid(h.edges[1])\n",
    "y = h.weights \n",
    "plot!(x,y,label=\"observed\")\n",
    "Y = f.(x)\n",
    "plot!(x, (y'Y)/(Y'Y)*Y, color=\"red\", label=\"predicted\", width=2)\n",
    "=#\n",
    "data"
   ]
  },
  {
   "cell_type": "code",
   "execution_count": null,
   "metadata": {
    "collapsed": true
   },
   "outputs": [],
   "source": [
    "@parallel (vcat) for p=1:nworkers()\n",
    "   myid()\n",
    "end"
   ]
  },
  {
   "cell_type": "code",
   "execution_count": null,
   "metadata": {
    "collapsed": true
   },
   "outputs": [],
   "source": [
    "function foo(x)\n",
    "    34\n",
    "    45\n",
    "    return\n",
    "end"
   ]
  },
  {
   "cell_type": "code",
   "execution_count": null,
   "metadata": {
    "collapsed": true
   },
   "outputs": [],
   "source": [
    "x = nothing\n",
    "typeof(x)"
   ]
  },
  {
   "cell_type": "code",
   "execution_count": null,
   "metadata": {
    "collapsed": true
   },
   "outputs": [],
   "source": [
    "sum(h.weights)"
   ]
  },
  {
   "cell_type": "code",
   "execution_count": null,
   "metadata": {
    "collapsed": true
   },
   "outputs": [],
   "source": [
    "length(h.edges[1])"
   ]
  },
  {
   "cell_type": "code",
   "execution_count": null,
   "metadata": {
    "collapsed": true
   },
   "outputs": [],
   "source": [
    "merge(h,h)"
   ]
  },
  {
   "cell_type": "code",
   "execution_count": null,
   "metadata": {
    "collapsed": true
   },
   "outputs": [],
   "source": [
    "nworkers()"
   ]
  },
  {
   "cell_type": "code",
   "execution_count": null,
   "metadata": {
    "collapsed": true
   },
   "outputs": [],
   "source": [
    "h2 = Histogram(-1:.01:1 ,:left)"
   ]
  },
  {
   "cell_type": "code",
   "execution_count": null,
   "metadata": {
    "collapsed": true
   },
   "outputs": [],
   "source": [
    "vcat( rand(3), rand(4))"
   ]
  },
  {
   "cell_type": "code",
   "execution_count": null,
   "metadata": {
    "collapsed": true
   },
   "outputs": [],
   "source": [
    "x =[rand(3,3) for i=1:100_000];"
   ]
  },
  {
   "cell_type": "code",
   "execution_count": null,
   "metadata": {
    "collapsed": true
   },
   "outputs": [],
   "source": [
    "length(x)"
   ]
  },
  {
   "cell_type": "code",
   "execution_count": null,
   "metadata": {
    "collapsed": true
   },
   "outputs": [],
   "source": [
    "x = rand(3,3,100_000);"
   ]
  },
  {
   "cell_type": "code",
   "execution_count": null,
   "metadata": {
    "collapsed": true
   },
   "outputs": [],
   "source": [
    " # @fetchfrom 3 localpart(dD) "
   ]
  },
  {
   "cell_type": "code",
   "execution_count": 54,
   "metadata": {},
   "outputs": [
    {
     "data": {
      "text/plain": [
       "10-element DistributedArrays.DArray{Float64,1,Array{Float64,1}}:\n",
       " 0.105518 \n",
       " 0.758881 \n",
       " 0.408368 \n",
       " 0.254824 \n",
       " 0.822384 \n",
       " 0.67095  \n",
       " 0.0221236\n",
       " 0.679513 \n",
       " 0.37678  \n",
       " 0.406047 "
      ]
     },
     "execution_count": 54,
     "metadata": {},
     "output_type": "execute_result"
    }
   ],
   "source": [
    "a = drand(10)"
   ]
  },
  {
   "cell_type": "code",
   "execution_count": 56,
   "metadata": {},
   "outputs": [
    {
     "data": {
      "text/plain": [
       "2×5 Array{Tuple{UnitRange{Int64},UnitRange{Int64}},2}:\n",
       " (1:50, 1:20)    (1:50, 21:40)    …  (1:50, 61:80)    (1:50, 81:100)  \n",
       " (51:100, 1:20)  (51:100, 21:40)     (51:100, 61:80)  (51:100, 81:100)"
      ]
     },
     "execution_count": 56,
     "metadata": {},
     "output_type": "execute_result"
    }
   ],
   "source": [
    "a = drand(100,100)\n",
    "a.indexes"
   ]
  },
  {
   "cell_type": "code",
   "execution_count": 58,
   "metadata": {},
   "outputs": [
    {
     "name": "stdout",
     "output_type": "stream",
     "text": [
      "search: \u001b[1md\u001b[22m\u001b[1mr\u001b[22m\u001b[1ma\u001b[22m\u001b[1mn\u001b[22m\u001b[1md\u001b[22m\u001b[1mn\u001b[22m \u001b[1md\u001b[22m\u001b[1mr\u001b[22m\u001b[1ma\u001b[22m\u001b[1mn\u001b[22m\u001b[1md\u001b[22m\n",
      "\n"
     ]
    },
    {
     "data": {
      "text/markdown": [
       "```\n",
       " drandn(dims, ...)\n",
       "```\n",
       "\n",
       "Construct a distributed normal random array. Trailing arguments are the same as those accepted by `DArray`.\n"
      ],
      "text/plain": [
       "```\n",
       " drandn(dims, ...)\n",
       "```\n",
       "\n",
       "Construct a distributed normal random array. Trailing arguments are the same as those accepted by `DArray`.\n"
      ]
     },
     "execution_count": 58,
     "metadata": {},
     "output_type": "execute_result"
    }
   ],
   "source": [
    "?drandn"
   ]
  },
  {
   "cell_type": "code",
   "execution_count": 59,
   "metadata": {},
   "outputs": [
    {
     "name": "stderr",
     "output_type": "stream",
     "text": [
      "WARNING: ignoring conflicting import of SPMD.recvfrom into Main\n"
     ]
    },
    {
     "ename": "LoadError",
     "evalue": "\u001b[91m\u001b[91m\u001b[91mBoundsError: attempt to access 0×0 Array{Int64,2} at index [2]\u001b[39m\nfoo_spmd(::DistributedArrays.DArray{Int64,2,Array{Int64,2}}, ::DistributedArrays.DArray{Any,1,Any}, ::Int64) at ./In[59]:18\nspmd_local(::DistributedArrays.SPMD.##25#27{#foo_spmd,Tuple{DistributedArrays.DArray{Int64,2,Array{Int64,2}},DistributedArrays.DArray{Any,1,Any},Int64}}, ::Tuple{Int64,Int64}, ::Bool) at /Users/alanedelman/.julia/v0.6/DistributedArrays/src/spmd.jl:228\n(::Base.Distributed.##135#136{DistributedArrays.SPMD.#spmd_local,Tuple{DistributedArrays.SPMD.##25#27{#foo_spmd,Tuple{DistributedArrays.DArray{Int64,2,Array{Int64,2}},DistributedArrays.DArray{Any,1,Any},Int64}},Tuple{Int64,Int64},Bool},Array{Any,1}})() at ./distributed/remotecall.jl:314\nrun_work_thunk(::Base.Distributed.##135#136{DistributedArrays.SPMD.#spmd_local,Tuple{DistributedArrays.SPMD.##25#27{#foo_spmd,Tuple{DistributedArrays.DArray{Int64,2,Array{Int64,2}},DistributedArrays.DArray{Any,1,Any},Int64}},Tuple{Int64,Int64},Bool},Array{Any,1}}, ::Bool) at ./distributed/process_messages.jl:56\n#remotecall_fetch#140(::Array{Any,1}, ::Function, ::Function, ::Base.Distributed.LocalProcess, ::Function, ::Vararg{Any,N} where N) at ./distributed/remotecall.jl:339\nremotecall_fetch(::Function, ::Base.Distributed.LocalProcess, ::Function, ::Vararg{Any,N} where N) at ./distributed/remotecall.jl:339\n#remotecall_fetch#144(::Array{Any,1}, ::Function, ::Function, ::Int64, ::Function, ::Vararg{Any,N} where N) at ./distributed/remotecall.jl:367\nremotecall_fetch(::Function, ::Int64, ::Function, ::Vararg{Any,N} where N) at ./distributed/remotecall.jl:367\n(::DistributedArrays.SPMD.##26#28{DistributedArrays.SPMD.##25#27{#foo_spmd,Tuple{DistributedArrays.DArray{Int64,2,Array{Int64,2}},DistributedArrays.DArray{Any,1,Any},Int64}}})() at ./task.jl:335\u001b[39m\n#remotecall_fetch#140(::Array{Any,1}, ::Function, ::Function, ::Base.Distributed.LocalProcess, ::Function, ::Vararg{Any,N} where N) at ./distributed/remotecall.jl:340\nremotecall_fetch(::Function, ::Base.Distributed.LocalProcess, ::Function, ::Vararg{Any,N} where N) at ./distributed/remotecall.jl:339\n#remotecall_fetch#144(::Array{Any,1}, ::Function, ::Function, ::Int64, ::Function, ::Vararg{Any,N} where N) at ./distributed/remotecall.jl:367\nremotecall_fetch(::Function, ::Int64, ::Function, ::Vararg{Any,N} where N) at ./distributed/remotecall.jl:367\n(::DistributedArrays.SPMD.##26#28{DistributedArrays.SPMD.##25#27{#foo_spmd,Tuple{DistributedArrays.DArray{Int64,2,Array{Int64,2}},DistributedArrays.DArray{Any,1,Any},Int64}}})() at ./task.jl:335\u001b[39m",
     "output_type": "error",
     "traceback": [
      "\u001b[91m\u001b[91m\u001b[91mBoundsError: attempt to access 0×0 Array{Int64,2} at index [2]\u001b[39m\nfoo_spmd(::DistributedArrays.DArray{Int64,2,Array{Int64,2}}, ::DistributedArrays.DArray{Any,1,Any}, ::Int64) at ./In[59]:18\nspmd_local(::DistributedArrays.SPMD.##25#27{#foo_spmd,Tuple{DistributedArrays.DArray{Int64,2,Array{Int64,2}},DistributedArrays.DArray{Any,1,Any},Int64}}, ::Tuple{Int64,Int64}, ::Bool) at /Users/alanedelman/.julia/v0.6/DistributedArrays/src/spmd.jl:228\n(::Base.Distributed.##135#136{DistributedArrays.SPMD.#spmd_local,Tuple{DistributedArrays.SPMD.##25#27{#foo_spmd,Tuple{DistributedArrays.DArray{Int64,2,Array{Int64,2}},DistributedArrays.DArray{Any,1,Any},Int64}},Tuple{Int64,Int64},Bool},Array{Any,1}})() at ./distributed/remotecall.jl:314\nrun_work_thunk(::Base.Distributed.##135#136{DistributedArrays.SPMD.#spmd_local,Tuple{DistributedArrays.SPMD.##25#27{#foo_spmd,Tuple{DistributedArrays.DArray{Int64,2,Array{Int64,2}},DistributedArrays.DArray{Any,1,Any},Int64}},Tuple{Int64,Int64},Bool},Array{Any,1}}, ::Bool) at ./distributed/process_messages.jl:56\n#remotecall_fetch#140(::Array{Any,1}, ::Function, ::Function, ::Base.Distributed.LocalProcess, ::Function, ::Vararg{Any,N} where N) at ./distributed/remotecall.jl:339\nremotecall_fetch(::Function, ::Base.Distributed.LocalProcess, ::Function, ::Vararg{Any,N} where N) at ./distributed/remotecall.jl:339\n#remotecall_fetch#144(::Array{Any,1}, ::Function, ::Function, ::Int64, ::Function, ::Vararg{Any,N} where N) at ./distributed/remotecall.jl:367\nremotecall_fetch(::Function, ::Int64, ::Function, ::Vararg{Any,N} where N) at ./distributed/remotecall.jl:367\n(::DistributedArrays.SPMD.##26#28{DistributedArrays.SPMD.##25#27{#foo_spmd,Tuple{DistributedArrays.DArray{Int64,2,Array{Int64,2}},DistributedArrays.DArray{Any,1,Any},Int64}}})() at ./task.jl:335\u001b[39m\n#remotecall_fetch#140(::Array{Any,1}, ::Function, ::Function, ::Base.Distributed.LocalProcess, ::Function, ::Vararg{Any,N} where N) at ./distributed/remotecall.jl:340\nremotecall_fetch(::Function, ::Base.Distributed.LocalProcess, ::Function, ::Vararg{Any,N} where N) at ./distributed/remotecall.jl:339\n#remotecall_fetch#144(::Array{Any,1}, ::Function, ::Function, ::Int64, ::Function, ::Vararg{Any,N} where N) at ./distributed/remotecall.jl:367\nremotecall_fetch(::Function, ::Int64, ::Function, ::Vararg{Any,N} where N) at ./distributed/remotecall.jl:367\n(::DistributedArrays.SPMD.##26#28{DistributedArrays.SPMD.##25#27{#foo_spmd,Tuple{DistributedArrays.DArray{Int64,2,Array{Int64,2}},DistributedArrays.DArray{Any,1,Any},Int64}}})() at ./task.jl:335\u001b[39m",
      "",
      "Stacktrace:",
      " [1] \u001b[1msync_end\u001b[22m\u001b[22m\u001b[1m(\u001b[22m\u001b[22m\u001b[1m)\u001b[22m\u001b[22m at \u001b[1m./task.jl:287\u001b[22m\u001b[22m",
      " [2] \u001b[1mmacro expansion\u001b[22m\u001b[22m at \u001b[1m./task.jl:303\u001b[22m\u001b[22m [inlined]",
      " [3] \u001b[1m#spmd#24\u001b[22m\u001b[22m\u001b[1m(\u001b[22m\u001b[22m::Array{Int64,1}, ::Void, ::Function, ::Function, ::DistributedArrays.DArray{Int64,2,Array{Int64,2}}, ::Vararg{Any,N} where N\u001b[1m)\u001b[22m\u001b[22m at \u001b[1m/Users/alanedelman/.julia/v0.6/DistributedArrays/src/spmd.jl:243\u001b[22m\u001b[22m",
      " [4] \u001b[1mspmd\u001b[22m\u001b[22m\u001b[1m(\u001b[22m\u001b[22m::Function, ::DistributedArrays.DArray{Int64,2,Array{Int64,2}}, ::Vararg{Any,N} where N\u001b[1m)\u001b[22m\u001b[22m at \u001b[1m/Users/alanedelman/.julia/v0.6/DistributedArrays/src/spmd.jl:234\u001b[22m\u001b[22m",
      " [5] \u001b[1minclude_string\u001b[22m\u001b[22m\u001b[1m(\u001b[22m\u001b[22m::String, ::String\u001b[1m)\u001b[22m\u001b[22m at \u001b[1m./loading.jl:515\u001b[22m\u001b[22m"
     ]
    }
   ],
   "source": [
    "@everywhere importall DistributedArrays.SPMD\n",
    "\n",
    "d_in=d=DArray(I->fill(myid(), (map(length,I)...)), (nworkers(), 2), workers(), [nworkers(),1])\n",
    "d_out=ddata()\n",
    "\n",
    "# define the function everywhere\n",
    "@everywhere function foo_spmd(d_in, d_out, n)\n",
    "    pids = sort(vec(procs(d_in)))\n",
    "    pididx = findfirst(pids, myid())\n",
    "    mylp = d_in[:L]\n",
    "    localsum = 0\n",
    "\n",
    "    # Have each worker exchange data with its neighbors\n",
    "    n_pididx = pididx+1 > length(pids) ? 1 : pididx+1\n",
    "    p_pididx = pididx-1 < 1 ? length(pids) : pididx-1\n",
    "\n",
    "    for i in 1:n\n",
    "        sendto(pids[n_pididx], mylp[2])\n",
    "        sendto(pids[p_pididx], mylp[1])\n",
    "\n",
    "        mylp[2] = recvfrom(pids[p_pididx])\n",
    "        mylp[1] = recvfrom(pids[n_pididx])\n",
    "\n",
    "        barrier(;pids=pids)\n",
    "        localsum = localsum + mylp[1] + mylp[2]\n",
    "    end\n",
    "\n",
    "    # finally store the sum in d_out\n",
    "    d_out[:L] = localsum\n",
    "end\n",
    "\n",
    "# run foo_spmd on all workers\n",
    "spmd(foo_spmd, d_in, d_out, 10)\n",
    "\n",
    "# print values of d_in and d_out after the run\n",
    "println(d_in)\n",
    "println(d_out)"
   ]
  },
  {
   "cell_type": "code",
   "execution_count": null,
   "metadata": {
    "collapsed": true
   },
   "outputs": [],
   "source": []
  }
 ],
 "metadata": {
  "@webio": {
   "lastCommId": "9bc7df0124634e548730ae7e3095dffd",
   "lastKernelId": "626dea7e-ac7f-4dc7-b896-430e1986857b"
  },
  "kernelspec": {
   "display_name": "Julia 1.7 1.7.1",
   "language": "julia",
   "name": "julia-1.7-1.7"
  },
  "language_info": {
   "file_extension": ".jl",
   "mimetype": "application/julia",
   "name": "julia",
   "version": "1.7.1"
  }
 },
 "nbformat": 4,
 "nbformat_minor": 2
}
