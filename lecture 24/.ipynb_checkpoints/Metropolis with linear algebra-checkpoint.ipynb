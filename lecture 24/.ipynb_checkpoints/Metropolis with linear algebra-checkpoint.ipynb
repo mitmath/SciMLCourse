{
 "cells": [
  {
   "cell_type": "code",
   "execution_count": 24,
   "metadata": {},
   "outputs": [],
   "source": [
    "using LinearAlgebra"
   ]
  },
  {
   "cell_type": "code",
   "execution_count": 142,
   "metadata": {},
   "outputs": [
    {
     "data": {
      "text/plain": [
       "7×7 Matrix{Float64}:\n",
       " 1.0       0.470461   0.357589  0.677251   1.0  0.598646   0.703171\n",
       " 1.0       1.0        0.760081  1.0        1.0  1.0        1.0\n",
       " 1.0       1.0        1.0       1.0        1.0  1.0        1.0\n",
       " 1.0       0.694663   0.528     1.0        1.0  0.883936   1.0\n",
       " 0.127373  0.0599239  0.045547  0.0862633  1.0  0.0762512  0.0895648\n",
       " 1.0       0.785875   0.597328  1.0        1.0  1.0        1.0\n",
       " 1.0       0.669057   0.508537  0.963139   1.0  0.851353   1.0"
      ]
     },
     "execution_count": 142,
     "metadata": {},
     "output_type": "execute_result"
    }
   ],
   "source": [
    "# Create a vector of Probabilities and do the Metropolis thing\n",
    "N = 7\n",
    "π = normalize(rand(N),1)\n",
    "A = min.(1,π./π') # Acceptance Matrix"
   ]
  },
  {
   "cell_type": "code",
   "execution_count": 135,
   "metadata": {},
   "outputs": [
    {
     "data": {
      "text/plain": [
       "true"
      ]
     },
     "execution_count": 135,
     "metadata": {},
     "output_type": "execute_result"
    }
   ],
   "source": [
    "# Note that by construction\n",
    "A'./A ≈ π'./π"
   ]
  },
  {
   "cell_type": "code",
   "execution_count": 136,
   "metadata": {},
   "outputs": [
    {
     "data": {
      "text/plain": [
       "true"
      ]
     },
     "execution_count": 136,
     "metadata": {},
     "output_type": "execute_result"
    }
   ],
   "source": [
    "# The same test in linear algebra notation\n",
    "A ≈ Diagonal(π)*A'/Diagonal(π)"
   ]
  },
  {
   "cell_type": "code",
   "execution_count": 144,
   "metadata": {},
   "outputs": [
    {
     "data": {
      "text/plain": [
       "true"
      ]
     },
     "execution_count": 144,
     "metadata": {},
     "output_type": "execute_result"
    }
   ],
   "source": [
    "# The following steps preserve P'./P ≈ π'./π \n",
    "# but add a new property:  sum(P,1) ≈ ones(1,N)\n",
    "\n",
    "G = [ i==j ? 0 : 1/(N-1) for i=1:N,j=1:N] # Generating Matrix\n",
    "M = G.*A # Markov Matrix\n",
    "\n",
    "M += Diagonal(1 .- sum(M,dims=1)[:]) # Rejection Probabilities\n",
    "M'./M ≈ π'./π   &&  sum(M,dims=1) ≈ ones(1,N) "
   ]
  },
  {
   "cell_type": "code",
   "execution_count": 132,
   "metadata": {},
   "outputs": [
    {
     "data": {
      "text/plain": [
       "true"
      ]
     },
     "execution_count": 132,
     "metadata": {},
     "output_type": "execute_result"
    }
   ],
   "source": [
    "M*π ≈ π \n",
    "# why? multiplying P*π \n",
    "# from right to left in\n",
    "# (Diagonal(π)*P'/Diagonal(π)) * π \n",
    "# gives π --> ones --> ones --> π"
   ]
  },
  {
   "cell_type": "code",
   "execution_count": 145,
   "metadata": {},
   "outputs": [
    {
     "data": {
      "text/plain": [
       "true"
      ]
     },
     "execution_count": 145,
     "metadata": {},
     "output_type": "execute_result"
    }
   ],
   "source": [
    "# Nothing special about the uniform distribution\n",
    "\n",
    "G = Symmetric([ i==j ? 0 : rand() for i=1:N,j=1:N]) # Generating Matrix\n",
    "M = G.*A # Markov Matrix\n",
    "\n",
    "M += Diagonal(1 .- sum(M,dims=1)[:]) # Rejection Probabilities\n",
    "M'./M ≈ π'./π   &&  sum(M,dims=1) ≈ ones(1,N)"
   ]
  },
  {
   "cell_type": "code",
   "execution_count": 141,
   "metadata": {},
   "outputs": [
    {
     "data": {
      "text/plain": [
       "true"
      ]
     },
     "execution_count": 141,
     "metadata": {},
     "output_type": "execute_result"
    }
   ],
   "source": [
    "M*π ≈ π"
   ]
  },
  {
   "cell_type": "code",
   "execution_count": null,
   "metadata": {},
   "outputs": [],
   "source": []
  }
 ],
 "metadata": {
  "kernelspec": {
   "display_name": "Julia 1.7 1.7.1",
   "language": "julia",
   "name": "julia-1.7-1.7"
  },
  "language_info": {
   "file_extension": ".jl",
   "mimetype": "application/julia",
   "name": "julia",
   "version": "1.7.1"
  }
 },
 "nbformat": 4,
 "nbformat_minor": 2
}
