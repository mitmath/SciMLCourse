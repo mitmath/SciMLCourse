{
 "cells": [
  {
   "cell_type": "markdown",
   "metadata": {},
   "source": [
    "# Designing Markov chains"
   ]
  },
  {
   "cell_type": "markdown",
   "metadata": {},
   "source": [
    "How can we design a Markov chain such that it converges to a given distribution $\\pi(s)$ over states $s$?\n",
    "The idea is to design the chain such that it has a **stationary distribution** to which it converges after a long time, and such that that stationary distribution is equal to $\\pi$."
   ]
  },
  {
   "cell_type": "markdown",
   "metadata": {},
   "source": [
    "To do so, we need to find (design) suitable transition probabilities $p(s \\to t)$ of jumping from a state $s$ to a state $t$.\n",
    "\n",
    "The simplest design method is to impose the **detailed balance** criterion,\n",
    "\n",
    "$$\\pi(s) p(s \\to t) = \\pi(t) p(t \\to s) \\quad \\forall s, t,$$\n",
    "\n",
    "which says that the flow of probability between any two states is equal, and hence that there is an equilibrium between any two states. \n",
    "[This is not a necessary condition: there are MCMC methods that impose only the weaker \"balance\" condition that the *total* flow into and out of a given state should be equal.]\n",
    "\n",
    "This then imposes a condition on the ratio\n",
    "$$\\frac{p(s \\to t)}{p(t \\to s)} = \\frac{\\pi(t)}{\\pi(s)}.$$\n",
    "\n",
    "Note that the normalization constant disappears in this ratio of values of $\\pi$, so that we can design a chain for a distribution whose normalization constant we don't know."
   ]
  },
  {
   "cell_type": "markdown",
   "metadata": {},
   "source": [
    "There are many ways to solve this underdetermined set of equations. The Metropolis solution is the following. \n",
    "\n",
    "We split up $p(s \\to t)$ into $g(s \\to t) \\cdot \\alpha(s \\to t)$, where $g(s \\to t)$ is the probability of proposing (generating) the state $t$ from the state $s$, and $\\alpha(s \\to t)$ is the probability of accepting the move.\n",
    "\n",
    "If $g$ is symmetric, such that $g(s \\to t) = g(t \\to s)$ for all $s, t$, then we have\n",
    "\n",
    "$$\\frac{\\alpha(s \\to t)}{\\alpha(t \\to s)} = \\frac{\\pi(t)}{\\pi(s)}.$$"
   ]
  },
  {
   "cell_type": "markdown",
   "metadata": {},
   "source": [
    "We attempt to maximise the acceptance ratio $\\alpha(s \\to t)$ by putting it equal to $1$ when possible. The solution is\n",
    "\n",
    "$$\\alpha(s \\to t) = \\max \\left[ 1, \\frac{\\pi(s)}{\\pi(t)} \\right].$$\n",
    "\n",
    "Note that this choice implies that the probability of going \"downhill\" (to a less likely state) is 1."
   ]
  },
  {
   "cell_type": "markdown",
   "metadata": {},
   "source": [
    "See also [this Wikipedia article](https://en.wikipedia.org/wiki/Metropolis%E2%80%93Hastings_algorithm) and e.g. the book by Newman & Barkema, Monte Carlo Methods in Statistical Physics."
   ]
  },
  {
   "cell_type": "markdown",
   "metadata": {},
   "source": [
    "## Code for simplest Metropolis MCMC"
   ]
  },
  {
   "cell_type": "code",
   "execution_count": 1,
   "metadata": {},
   "outputs": [
    {
     "data": {
      "text/plain": [
       "MCMC"
      ]
     },
     "execution_count": 1,
     "metadata": {},
     "output_type": "execute_result"
    }
   ],
   "source": [
    "doc\"\"\"Generate a distribution looking like the (unnormalised) function f using MCMC\"\"\"\n",
    "function MCMC(f, N=100000)\n",
    "\n",
    "    data = Float64[]\n",
    "    \n",
    "    x = 0.0\n",
    "\n",
    "    for i in 1:N\n",
    "        x_new = x + 0.1*(rand() - 0.5)  # generate new state locally\n",
    "\n",
    "        ratio = f(x_new) / f(x)\n",
    "\n",
    "        if rand() < ratio\n",
    "            x = x_new\n",
    "        end\n",
    "\n",
    "        push!(data, x)\n",
    "    end\n",
    "    \n",
    "    return data\n",
    "end"
   ]
  },
  {
   "cell_type": "code",
   "execution_count": 2,
   "metadata": {},
   "outputs": [
    {
     "data": {
      "text/plain": [
       "Plots.GRBackend()"
      ]
     },
     "execution_count": 2,
     "metadata": {},
     "output_type": "execute_result"
    }
   ],
   "source": [
    "using Plots\n",
    "gr()"
   ]
  },
  {
   "cell_type": "code",
   "execution_count": null,
   "metadata": {},
   "outputs": [],
   "source": [
    "data = MCMC(x->exp(-x^2), 10^7)\n",
    "histogram(data, normed=true, bins=100)"
   ]
  },
  {
   "cell_type": "code",
   "execution_count": 4,
   "metadata": {},
   "outputs": [
    {
     "data": {
      "text/html": [
       "<?xml version=\"1.0\" encoding=\"utf-8\"?>\n",
       "<svg xmlns=\"http://www.w3.org/2000/svg\" xmlns:xlink=\"http://www.w3.org/1999/xlink\" width=\"600\" height=\"400\" viewBox=\"0 0 600 400\">\n",
       "<defs>\n",
       "  <clipPath id=\"clip00\">\n",
       "    <rect x=\"0\" y=\"0\" width=\"600\" height=\"400\"/>\n",
       "  </clipPath>\n",
       "</defs>\n",
       "<polygon clip-path=\"url(#clip00)\" points=\"\n",
       "0,400 600,400 600,0 0,0 \n",
       "  \" fill=\"#ffffff\" fill-opacity=\"1\"/>\n",
       "<defs>\n",
       "  <clipPath id=\"clip01\">\n",
       "    <rect x=\"120\" y=\"0\" width=\"421\" height=\"400\"/>\n",
       "  </clipPath>\n",
       "</defs>\n",
       "<polygon clip-path=\"url(#clip00)\" points=\"\n",
       "32.2221,375.813 580.315,375.813 580.315,11.811 32.2221,11.811 \n",
       "  \" fill=\"#ffffff\" fill-opacity=\"1\"/>\n",
       "<defs>\n",
       "  <clipPath id=\"clip02\">\n",
       "    <rect x=\"32\" y=\"11\" width=\"549\" height=\"365\"/>\n",
       "  </clipPath>\n",
       "</defs>\n",
       "<polyline clip-path=\"url(#clip02)\" style=\"stroke:#000000; stroke-width:0.5; stroke-opacity:0.1; fill:none\" points=\"\n",
       "  136.914,370.353 136.914,17.2711 \n",
       "  \"/>\n",
       "<polyline clip-path=\"url(#clip02)\" style=\"stroke:#000000; stroke-width:0.5; stroke-opacity:0.1; fill:none\" points=\"\n",
       "  290.873,370.353 290.873,17.2711 \n",
       "  \"/>\n",
       "<polyline clip-path=\"url(#clip02)\" style=\"stroke:#000000; stroke-width:0.5; stroke-opacity:0.1; fill:none\" points=\"\n",
       "  444.831,370.353 444.831,17.2711 \n",
       "  \"/>\n",
       "<polyline clip-path=\"url(#clip02)\" style=\"stroke:#000000; stroke-width:0.5; stroke-opacity:0.1; fill:none\" points=\"\n",
       "  40.4435,375.813 572.094,375.813 \n",
       "  \"/>\n",
       "<polyline clip-path=\"url(#clip02)\" style=\"stroke:#000000; stroke-width:0.5; stroke-opacity:0.1; fill:none\" points=\"\n",
       "  40.4435,295.906 572.094,295.906 \n",
       "  \"/>\n",
       "<polyline clip-path=\"url(#clip02)\" style=\"stroke:#000000; stroke-width:0.5; stroke-opacity:0.1; fill:none\" points=\"\n",
       "  40.4435,215.999 572.094,215.999 \n",
       "  \"/>\n",
       "<polyline clip-path=\"url(#clip02)\" style=\"stroke:#000000; stroke-width:0.5; stroke-opacity:0.1; fill:none\" points=\"\n",
       "  40.4435,136.091 572.094,136.091 \n",
       "  \"/>\n",
       "<polyline clip-path=\"url(#clip02)\" style=\"stroke:#000000; stroke-width:0.5; stroke-opacity:0.1; fill:none\" points=\"\n",
       "  40.4435,56.1836 572.094,56.1836 \n",
       "  \"/>\n",
       "<polyline clip-path=\"url(#clip00)\" style=\"stroke:#000000; stroke-width:1; stroke-opacity:1; fill:none\" points=\"\n",
       "  32.2221,375.813 580.315,375.813 \n",
       "  \"/>\n",
       "<polyline clip-path=\"url(#clip00)\" style=\"stroke:#000000; stroke-width:1; stroke-opacity:1; fill:none\" points=\"\n",
       "  136.914,375.813 136.914,370.353 \n",
       "  \"/>\n",
       "<polyline clip-path=\"url(#clip00)\" style=\"stroke:#000000; stroke-width:1; stroke-opacity:1; fill:none\" points=\"\n",
       "  290.873,375.813 290.873,370.353 \n",
       "  \"/>\n",
       "<polyline clip-path=\"url(#clip00)\" style=\"stroke:#000000; stroke-width:1; stroke-opacity:1; fill:none\" points=\"\n",
       "  444.831,375.813 444.831,370.353 \n",
       "  \"/>\n",
       "<polyline clip-path=\"url(#clip00)\" style=\"stroke:#000000; stroke-width:1; stroke-opacity:1; fill:none\" points=\"\n",
       "  32.2221,375.813 32.2221,11.811 \n",
       "  \"/>\n",
       "<polyline clip-path=\"url(#clip00)\" style=\"stroke:#000000; stroke-width:1; stroke-opacity:1; fill:none\" points=\"\n",
       "  32.2221,375.813 40.4435,375.813 \n",
       "  \"/>\n",
       "<polyline clip-path=\"url(#clip00)\" style=\"stroke:#000000; stroke-width:1; stroke-opacity:1; fill:none\" points=\"\n",
       "  32.2221,295.906 40.4435,295.906 \n",
       "  \"/>\n",
       "<polyline clip-path=\"url(#clip00)\" style=\"stroke:#000000; stroke-width:1; stroke-opacity:1; fill:none\" points=\"\n",
       "  32.2221,215.999 40.4435,215.999 \n",
       "  \"/>\n",
       "<polyline clip-path=\"url(#clip00)\" style=\"stroke:#000000; stroke-width:1; stroke-opacity:1; fill:none\" points=\"\n",
       "  32.2221,136.091 40.4435,136.091 \n",
       "  \"/>\n",
       "<polyline clip-path=\"url(#clip00)\" style=\"stroke:#000000; stroke-width:1; stroke-opacity:1; fill:none\" points=\"\n",
       "  32.2221,56.1836 40.4435,56.1836 \n",
       "  \"/>\n",
       "<g clip-path=\"url(#clip00)\">\n",
       "<text style=\"fill:#000000; fill-opacity:1; font-family:Arial,Helvetica Neue,Helvetica,sans-serif; font-size:12; text-anchor:middle;\" transform=\"rotate(0, 136.914, 389.613)\" x=\"136.914\" y=\"389.613\">-5</text>\n",
       "</g>\n",
       "<g clip-path=\"url(#clip00)\">\n",
       "<text style=\"fill:#000000; fill-opacity:1; font-family:Arial,Helvetica Neue,Helvetica,sans-serif; font-size:12; text-anchor:middle;\" transform=\"rotate(0, 290.873, 389.613)\" x=\"290.873\" y=\"389.613\">0</text>\n",
       "</g>\n",
       "<g clip-path=\"url(#clip00)\">\n",
       "<text style=\"fill:#000000; fill-opacity:1; font-family:Arial,Helvetica Neue,Helvetica,sans-serif; font-size:12; text-anchor:middle;\" transform=\"rotate(0, 444.831, 389.613)\" x=\"444.831\" y=\"389.613\">5</text>\n",
       "</g>\n",
       "<g clip-path=\"url(#clip00)\">\n",
       "<text style=\"fill:#000000; fill-opacity:1; font-family:Arial,Helvetica Neue,Helvetica,sans-serif; font-size:12; text-anchor:end;\" transform=\"rotate(0, 26.2221, 380.313)\" x=\"26.2221\" y=\"380.313\">0.0</text>\n",
       "</g>\n",
       "<g clip-path=\"url(#clip00)\">\n",
       "<text style=\"fill:#000000; fill-opacity:1; font-family:Arial,Helvetica Neue,Helvetica,sans-serif; font-size:12; text-anchor:end;\" transform=\"rotate(0, 26.2221, 300.406)\" x=\"26.2221\" y=\"300.406\">0.1</text>\n",
       "</g>\n",
       "<g clip-path=\"url(#clip00)\">\n",
       "<text style=\"fill:#000000; fill-opacity:1; font-family:Arial,Helvetica Neue,Helvetica,sans-serif; font-size:12; text-anchor:end;\" transform=\"rotate(0, 26.2221, 220.499)\" x=\"26.2221\" y=\"220.499\">0.2</text>\n",
       "</g>\n",
       "<g clip-path=\"url(#clip00)\">\n",
       "<text style=\"fill:#000000; fill-opacity:1; font-family:Arial,Helvetica Neue,Helvetica,sans-serif; font-size:12; text-anchor:end;\" transform=\"rotate(0, 26.2221, 140.591)\" x=\"26.2221\" y=\"140.591\">0.3</text>\n",
       "</g>\n",
       "<g clip-path=\"url(#clip00)\">\n",
       "<text style=\"fill:#000000; fill-opacity:1; font-family:Arial,Helvetica Neue,Helvetica,sans-serif; font-size:12; text-anchor:end;\" transform=\"rotate(0, 26.2221, 60.6836)\" x=\"26.2221\" y=\"60.6836\">0.4</text>\n",
       "</g>\n",
       "<polyline clip-path=\"url(#clip02)\" style=\"stroke:#000000; stroke-width:1; stroke-opacity:1; fill:none\" points=\"\n",
       "  32.2221,375.813 32.2221,375.812 38.3805,375.812 38.3805,375.741 44.5388,375.741 44.5388,375.565 50.6971,375.565 50.6971,375.595 56.8555,375.595 56.8555,375.539 \n",
       "  63.0138,375.539 63.0138,375.459 69.1722,375.459 69.1722,375.357 75.3305,375.357 75.3305,375.363 81.4889,375.363 81.4889,375.447 87.6472,375.447 87.6472,375.418 \n",
       "  93.8056,375.418 93.8056,375.261 99.9639,375.261 99.9639,375.253 106.122,375.253 106.122,374.624 112.281,374.624 112.281,374.021 118.439,374.021 118.439,372.851 \n",
       "  124.597,372.851 124.597,372.337 130.756,372.337 130.756,371.46 136.914,371.46 136.914,370.302 143.072,370.302 143.072,369.356 149.231,369.356 149.231,368.443 \n",
       "  155.389,368.443 155.389,367.275 161.547,367.275 161.547,366.167 167.706,366.167 167.706,365.255 173.864,365.255 173.864,364.133 180.022,364.133 180.022,361.87 \n",
       "  186.181,361.87 186.181,358.074 192.339,358.074 192.339,355.818 198.497,355.818 198.497,352.514 204.656,352.514 204.656,348.741 210.814,348.741 210.814,344.035 \n",
       "  216.973,344.035 216.973,338.122 223.131,338.122 223.131,331.082 229.289,331.082 229.289,323.382 235.448,323.382 235.448,310.474 241.606,310.474 241.606,295.296 \n",
       "  247.764,295.296 247.764,274.456 253.923,274.456 253.923,249.435 260.081,249.435 260.081,219.447 266.239,219.447 266.239,180.485 272.398,180.485 272.398,140.484 \n",
       "  278.556,140.484 278.556,85.6823 284.714,85.6823 284.714,11.811 290.873,11.811 290.873,11.8777 297.031,11.8777 297.031,76.208 303.189,76.208 303.189,131.084 \n",
       "  309.348,131.084 309.348,174.8 315.506,174.8 315.506,210.856 321.664,210.856 321.664,238.518 327.823,238.518 327.823,263.354 333.981,263.354 333.981,285.901 \n",
       "  340.139,285.901 340.139,303.232 346.298,303.232 346.298,317.709 352.456,317.709 352.456,327.364 358.614,327.364 358.614,335.116 364.773,335.116 364.773,343.113 \n",
       "  370.931,343.113 370.931,349.205 377.09,349.205 377.09,355.364 383.248,355.364 383.248,358.728 389.406,358.728 389.406,360.925 395.565,360.925 395.565,362.581 \n",
       "  401.723,362.581 401.723,365.165 407.881,365.165 407.881,366.843 414.04,366.843 414.04,368.82 420.198,368.82 420.198,369.578 426.356,369.578 426.356,370.121 \n",
       "  432.515,370.121 432.515,370.466 438.673,370.466 438.673,370.816 444.831,370.816 444.831,371.564 450.99,371.564 450.99,372.252 457.148,372.252 457.148,372.946 \n",
       "  463.306,372.946 463.306,373.088 469.465,373.088 469.465,373.544 475.623,373.544 475.623,373.264 481.781,373.264 481.781,373.301 487.94,373.301 487.94,374.321 \n",
       "  494.098,374.321 494.098,374.567 500.256,374.567 500.256,375.001 506.415,375.001 506.415,375.282 512.573,375.282 512.573,375.472 518.731,375.472 518.731,375.567 \n",
       "  524.89,375.567 524.89,375.444 531.048,375.444 531.048,375.434 537.207,375.434 537.207,375.572 543.365,375.572 543.365,375.661 549.523,375.661 549.523,375.725 \n",
       "  555.682,375.725 555.682,375.746 561.84,375.746 561.84,375.745 567.998,375.745 567.998,375.73 574.157,375.73 574.157,375.807 580.315,375.807 580.315,375.813 \n",
       "  \n",
       "  \"/>\n",
       "<polygon clip-path=\"url(#clip00)\" points=\"\n",
       "489.799,62.931 562.315,62.931 562.315,32.691 489.799,32.691 \n",
       "  \" fill=\"#ffffff\" fill-opacity=\"1\"/>\n",
       "<polyline clip-path=\"url(#clip00)\" style=\"stroke:#000000; stroke-width:1; stroke-opacity:1; fill:none\" points=\"\n",
       "  489.799,62.931 562.315,62.931 562.315,32.691 489.799,32.691 489.799,62.931 \n",
       "  \"/>\n",
       "<polyline clip-path=\"url(#clip00)\" style=\"stroke:#000000; stroke-width:1; stroke-opacity:1; fill:none\" points=\"\n",
       "  495.799,47.811 531.799,47.811 \n",
       "  \"/>\n",
       "<g clip-path=\"url(#clip00)\">\n",
       "<text style=\"fill:#000000; fill-opacity:1; font-family:Arial,Helvetica Neue,Helvetica,sans-serif; font-size:12; text-anchor:start;\" transform=\"rotate(0, 537.799, 52.311)\" x=\"537.799\" y=\"52.311\">y1</text>\n",
       "</g>\n",
       "</svg>\n"
      ]
     },
     "execution_count": 4,
     "metadata": {},
     "output_type": "execute_result"
    }
   ],
   "source": [
    "data = MCMC(x->exp(-abs(x)), 10^7)\n",
    "histogram(data, normed=true, bins=100)"
   ]
  },
  {
   "cell_type": "code",
   "execution_count": null,
   "metadata": {
    "collapsed": true
   },
   "outputs": [],
   "source": [
    "data = MCMC(x->(abs(x)<10 ? 1 : 0), 10^9)\n",
    "histogram(data, normed=true, bins=100)"
   ]
  },
  {
   "cell_type": "code",
   "execution_count": null,
   "metadata": {
    "collapsed": true
   },
   "outputs": [],
   "source": [
    "data = MCMC(x->(abs(x)<10 ? x^2+1 : 0), 10^7)\n",
    "histogram(data, normed=true, bins=100)"
   ]
  },
  {
   "cell_type": "code",
   "execution_count": 10,
   "metadata": {},
   "outputs": [
    {
     "data": {
      "text/plain": [
       "1000000000-element Array{Float64,1}:\n",
       " -0.01073   \n",
       " -0.0392436 \n",
       " -0.0233078 \n",
       " -0.066845  \n",
       " -0.0220234 \n",
       "  0.0179812 \n",
       " -0.00588417\n",
       "  0.0311589 \n",
       "  0.0553976 \n",
       "  0.0551316 \n",
       "  0.0722811 \n",
       "  0.0831915 \n",
       "  0.126861  \n",
       "  ⋮         \n",
       "  8.27072   \n",
       "  8.25477   \n",
       "  8.28446   \n",
       "  8.24666   \n",
       "  8.24466   \n",
       "  8.27376   \n",
       "  8.24812   \n",
       "  8.20816   \n",
       "  8.20128   \n",
       "  8.18769   \n",
       "  8.15618   \n",
       "  8.15794   "
      ]
     },
     "execution_count": 10,
     "metadata": {},
     "output_type": "execute_result"
    }
   ],
   "source": [
    "data"
   ]
  },
  {
   "cell_type": "code",
   "execution_count": null,
   "metadata": {
    "collapsed": true
   },
   "outputs": [],
   "source": [
    "L\"x^2\""
   ]
  },
  {
   "cell_type": "code",
   "execution_count": null,
   "metadata": {
    "collapsed": true
   },
   "outputs": [],
   "source": []
  }
 ],
 "metadata": {
  "kernelspec": {
   "display_name": "Julia 1.7 1.7.1",
   "language": "julia",
   "name": "julia-1.7-1.7"
  },
  "language_info": {
   "file_extension": ".jl",
   "mimetype": "application/julia",
   "name": "julia",
   "version": "1.7.1"
  },
  "toc": {
   "colors": {
    "hover_highlight": "#DAA520",
    "running_highlight": "#FF0000",
    "selected_highlight": "#FFD700"
   },
   "moveMenuLeft": true,
   "nav_menu": {
    "height": "30px",
    "width": "252px"
   },
   "navigate_menu": true,
   "number_sections": true,
   "sideBar": true,
   "threshold": "1",
   "toc_cell": false,
   "toc_section_display": "block",
   "toc_window_display": false
  }
 },
 "nbformat": 4,
 "nbformat_minor": 2
}
