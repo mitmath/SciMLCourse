{
 "cells": [
  {
   "cell_type": "code",
   "execution_count": 31,
   "metadata": {},
   "outputs": [],
   "source": [
    "using LinearAlgebra, Distributions, StatsBase"
   ]
  },
  {
   "cell_type": "code",
   "execution_count": null,
   "metadata": {},
   "outputs": [],
   "source": [
    "# Create a vector of Probabilities and do the Metropolis thing\n",
    "N = 7\n",
    "π = normalize(rand(N),1)\n",
    "A = min.(1,π./π') # Acceptance Matrix"
   ]
  },
  {
   "cell_type": "code",
   "execution_count": null,
   "metadata": {},
   "outputs": [],
   "source": [
    "# Note that by construction\n",
    "A'./A ≈ π'./π"
   ]
  },
  {
   "cell_type": "code",
   "execution_count": null,
   "metadata": {},
   "outputs": [],
   "source": [
    "# The same test in linear algebra notation\n",
    "A ≈ Diagonal(π)*A'/Diagonal(π)"
   ]
  },
  {
   "cell_type": "code",
   "execution_count": 15,
   "metadata": {},
   "outputs": [
    {
     "data": {
      "text/plain": [
       "true"
      ]
     },
     "execution_count": 15,
     "metadata": {},
     "output_type": "execute_result"
    }
   ],
   "source": [
    "# The following steps preserve P'./P ≈ π'./π \n",
    "# but add a new property:  sum(P,1) ≈ ones(1,N)\n",
    "\n",
    "G = [ i==j ? 0 : 1/(N-1) for i=1:N,j=1:N] # Generating Matrix\n",
    "M = G.*A # Markov Matrix\n",
    "\n",
    "M += Diagonal(1 .- sum(M,dims=1)[:]) # Rejection Probabilities\n",
    "M'./M ≈ π'./π   &&  sum(M,dims=1) ≈ ones(1,N) "
   ]
  },
  {
   "cell_type": "code",
   "execution_count": 16,
   "metadata": {},
   "outputs": [
    {
     "data": {
      "text/plain": [
       "true"
      ]
     },
     "execution_count": 16,
     "metadata": {},
     "output_type": "execute_result"
    }
   ],
   "source": [
    "M*π ≈ π \n",
    "# why? multiplying P*π \n",
    "# from right to left in\n",
    "# (Diagonal(π)*P'/Diagonal(π)) * π \n",
    "# gives π --> ones --> ones --> π"
   ]
  },
  {
   "cell_type": "code",
   "execution_count": 17,
   "metadata": {},
   "outputs": [],
   "source": [
    "# Nothing special about the uniform distribution\n",
    "\n",
    "# G = Symmetric([ i==j ? 0 : rand() for i=1:N,j=1:N]) # Generating Matrix\n",
    "# M = G.*A # Markov Matrix\n",
    "\n",
    "# M += Diagonal(1 .- sum(M,dims=1)[:]) # Rejection Probabilities\n",
    "# M'./M ≈ π'./π   &&  sum(M,dims=1) ≈ ones(1,N)"
   ]
  },
  {
   "cell_type": "code",
   "execution_count": 18,
   "metadata": {},
   "outputs": [
    {
     "data": {
      "text/plain": [
       "true"
      ]
     },
     "execution_count": 18,
     "metadata": {},
     "output_type": "execute_result"
    }
   ],
   "source": [
    "M*π ≈ π"
   ]
  },
  {
   "cell_type": "code",
   "execution_count": 19,
   "metadata": {},
   "outputs": [
    {
     "data": {
      "text/plain": [
       "7×7 Matrix{Float64}:\n",
       " 0.0752557  0.106492  0.166667     0.0952127  0.0884378  0.0652019  0.0537528\n",
       " 0.166667   0.168435  0.166667     0.149014   0.138411   0.102045   0.0841268\n",
       " 0.0914109  0.058407  1.11022e-16  0.0522209  0.0485051  0.035761   0.0294816\n",
       " 0.166667   0.166667  0.166667     0.203552   0.154808   0.114134   0.0940925\n",
       " 0.166667   0.166667  0.166667     0.166667   0.236505   0.122877   0.1013\n",
       " 0.166667   0.166667  0.166667     0.166667   0.166667   0.393314   0.137401\n",
       " 0.166667   0.166667  0.166667     0.166667   0.166667   0.166667   0.499845"
      ]
     },
     "execution_count": 19,
     "metadata": {},
     "output_type": "execute_result"
    }
   ],
   "source": [
    "M"
   ]
  },
  {
   "cell_type": "code",
   "execution_count": 20,
   "metadata": {},
   "outputs": [
    {
     "data": {
      "text/plain": [
       "markov_jump (generic function with 1 method)"
      ]
     },
     "execution_count": 20,
     "metadata": {},
     "output_type": "execute_result"
    }
   ],
   "source": [
    "function markov_jump(M,s)\n",
    "    rand(Categorical(  M[:,s] ))\n",
    "end"
   ]
  },
  {
   "cell_type": "code",
   "execution_count": 47,
   "metadata": {},
   "outputs": [],
   "source": [
    "data=Int[]\n",
    "howmany = 10_000_000\n",
    "s=1\n",
    "for i=1:howmany\n",
    "    s = markov_jump(M,s)\n",
    "    append!(data,s)\n",
    "end"
   ]
  },
  {
   "cell_type": "code",
   "execution_count": 48,
   "metadata": {},
   "outputs": [
    {
     "data": {
      "text/plain": [
       "7×2 Matrix{Float64}:\n",
       " 0.0806753  0.0806104\n",
       " 0.126221   0.126161\n",
       " 0.0442706  0.044212\n",
       " 0.141005   0.141106\n",
       " 0.151835   0.151915\n",
       " 0.206065   0.206053\n",
       " 0.249929   0.249942"
      ]
     },
     "execution_count": 48,
     "metadata": {},
     "output_type": "execute_result"
    }
   ],
   "source": [
    "[[ countmap(data)[i]/howmany for i=1:N]  π]"
   ]
  },
  {
   "cell_type": "code",
   "execution_count": null,
   "metadata": {},
   "outputs": [],
   "source": []
  }
 ],
 "metadata": {
  "@webio": {
   "lastCommId": null,
   "lastKernelId": null
  },
  "kernelspec": {
   "display_name": "Julia 1.7 1.7.1",
   "language": "julia",
   "name": "julia-1.7-1.7"
  },
  "language_info": {
   "file_extension": ".jl",
   "mimetype": "application/julia",
   "name": "julia",
   "version": "1.7.1"
  }
 },
 "nbformat": 4,
 "nbformat_minor": 2
}
